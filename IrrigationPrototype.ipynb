{
 "cells": [
  {
   "cell_type": "code",
   "execution_count": 326,
   "metadata": {},
   "outputs": [],
   "source": [
    "# This helper class is a good-faith effort to limit the volume of code required to store, process, \n",
    "# and print (to the screen) various ephemera related to and verily defining the irrigation events\n",
    "# with which we are concerned fortwith. Tragically, no analogous simplifying class exists\n",
    "# with which the volume of supporting comment could have been limited. The time you've spend reading this?\n",
    "# You're never going to get it back. Carry on.\n",
    "\n",
    "class irrEvent:\n",
    "    # These are documented in notes from 5/1/21. Units: mm/min\n",
    "    rate1 = 19.05/60 # Backyard\n",
    "    rate2 = 7.143/60 # South side yard\n",
    "    rate3 = 2.381/60 # Front yard\n",
    "\n",
    "    def __init__(self, target, freq):\n",
    "        self.target = float(target) # Target precipitation per week\n",
    "        self.freq = float(freq) # Irrigation frequency, e.g. how many days per week the sprinklers should run\n",
    "        self.event = self.target/self.freq # How much irrigation is necessary per event\n",
    "        \n",
    "        # Uses the init value to calculate how long to irrigate for each zone\n",
    "        self.zone1 = round(self.event/self.rate1) \n",
    "        self.zone2 = round(self.event/self.rate2)\n",
    "        self.zone3 = round(self.event/self.rate3)\n",
    "        \n",
    "    def showTimes(self):\n",
    "        print(\"Zone 1:\", self.zone1, 'minutes')\n",
    "        print(\"Zone 2:\", self.zone2, 'minutes')\n",
    "        print(\"Zone 3:\", self.zone3, 'minutes')"
   ]
  },
  {
   "cell_type": "code",
   "execution_count": 353,
   "metadata": {},
   "outputs": [],
   "source": [
    "# Get historical data from meteostat\n",
    "import config\n",
    "from datetime import datetime, date, timedelta, time\n",
    "from meteostat import Point, Daily, Stations\n",
    "from requests.auth import HTTPBasicAuth\n",
    "import json\n",
    "\n",
    "def historicalRainfall(numOfDays, location):\n",
    "    # Set time period\n",
    "    today = datetime.combine(date.today(), time()) \n",
    "    hist = today - timedelta(days=numOfDays)\n",
    "    stations = Stations()\n",
    "    station = stations.id('icao', location).fetch()\n",
    "    # print(station)\n",
    "    data = Daily(station, start=hist, end=now)\n",
    "    data = data.normalize()\n",
    "    #data = data.aggregate('1W')\n",
    "    data = data.fetch()\n",
    "    result = data['prcp'].sum()\n",
    "    # print result\n",
    "    return result\n",
    "\n",
    "\n",
    "# Two functions for getting forecast data\n",
    "# API call to get the data from openweathermap.org\n",
    "def getForecast():\n",
    "    key = config.OPENWX_CONFIG['key']\n",
    "    resource = 'http://api.openweathermap.org/data/2.5/forecast?'\n",
    "    zcode = config.OPENWX_CONFIG['zipcode']\n",
    "    units = 'units=metric&' # Standard, metric and imperial units are available. Standard units are default\n",
    "    # mode = 'mode=xml&' #Response format. JSON format is used by default. To get data in XML format use mode=xml\n",
    "    # cnt = 'cnt=numForecasts #Number of timestamps, which will be returned in the API response\n",
    "    # lang = someLang #Get the output in your language\n",
    "    \n",
    "    url = resource + zcode + units + key\n",
    "\n",
    "    response = requests.request(\n",
    "        \"GET\",\n",
    "        url\n",
    "    )\n",
    "    payload = json.loads(response.text)\n",
    "    return(payload)\n",
    "\n",
    "# Process the response\n",
    "def forecast():\n",
    "    payload = getForecast()\n",
    "    \n",
    "    today = datetime.combine(date.today(), time()) + timedelta(days=1)\n",
    "    tomorrow = today + timedelta(days=2)\n",
    "\n",
    "    rain2day = 0\n",
    "    rain2mrw = 0\n",
    "\n",
    "    for forecast in payload['list']:\n",
    "        dt = forecast['dt']\n",
    "        timestamp = datetime.fromtimestamp(dt)\n",
    "        timestamp = timestamp - timedelta(hours=6)\n",
    "\n",
    "        if (forecast['weather'][0]['main'] == 'Rain' \n",
    "            and timestamp > today \n",
    "            and timestamp < tomorrow):\n",
    "#             print(timestamp.strftime('%Y-%m-%d %H:%M:%S'))\n",
    "#             print(\"it's going to rain \", forecast['rain']['3h'], \"mm\")\n",
    "            rain2day += forecast['rain']['3h']\n",
    "        if (forecast['weather'][0]['main'] == 'Rain' \n",
    "            and timestamp >= (tomorrow) \n",
    "            and timestamp < (tomorrow + timedelta(days=1))):\n",
    "#             print(timestamp.strftime('%Y-%m-%d %H:%M:%S'))\n",
    "#             print(\"it's going to rain \", forecast['rain']['3h'], \"mm\")\n",
    "            rain2mrw += forecast['rain']['3h']\n",
    "\n",
    "#         print(\"it's going to rain \", round(rain2day), \"mm today\")\n",
    "#         print(\"it's going to rain \", round(rain2mrw), \"mm tomorrow\")\n",
    "    results = {\n",
    "        'today': rain2day,\n",
    "        'tomorrow': rain2mrw\n",
    "    }\n",
    "    return results\n",
    "                \n"
   ]
  },
  {
   "cell_type": "code",
   "execution_count": 354,
   "metadata": {},
   "outputs": [
    {
     "data": {
      "text/html": [
       "<style>\n",
       "table {align:left;display:block}\n",
       "</style>\n"
      ],
      "text/plain": [
       "<IPython.core.display.HTML object>"
      ]
     },
     "metadata": {},
     "output_type": "display_data"
    }
   ],
   "source": [
    "%%html\n",
    "<style>\n",
    "table {align:left;display:block}\n",
    "</style>"
   ]
  },
  {
   "cell_type": "markdown",
   "metadata": {},
   "source": [
    "### Irrigation Data\n",
    "#### Irrigation Rates (Per Hour)\n",
    "|        | Inches | mm    |\n",
    "|--------|--------|-------|\n",
    "| Zone 1 | 3/4    | 19.05 |\n",
    "| Zone 2 | 9/32   | 7.143 |\n",
    "| Zone 3 | 3/32   | 2.381 |\n",
    "\n",
    "#### Irrigation Target (Weekly)\n",
    "|           | Inches | mm    |\n",
    "|-----------|--------|-------|\n",
    "| New Grass | 2\"     | 50.8  |\n",
    "|Established| 1\"     | 25.4  |"
   ]
  },
  {
   "cell_type": "code",
   "execution_count": 355,
   "metadata": {},
   "outputs": [
    {
     "name": "stdout",
     "output_type": "stream",
     "text": [
      "\n",
      "New Grass Irrigation Times\n",
      "Zone 1: 11 minutes\n",
      "Zone 2: 30 minutes\n",
      "Zone 3: 91 minutes\n",
      "\n",
      "Phase 1 Irrigation Times\n",
      "Zone 1: 17 minutes\n",
      "Zone 2: 46 minutes\n",
      "Zone 3: 137 minutes\n",
      "\n",
      "Phase 2 Irrigation Times\n",
      "Zone 1: 20 minutes\n",
      "Zone 2: 53 minutes\n",
      "Zone 3: 160 minutes\n",
      "\n",
      "Established Grass Irrigation Times\n",
      "Zone 1: 40 minutes\n",
      "Zone 2: 107 minutes\n",
      "Zone 3: 320 minutes\n"
     ]
    }
   ],
   "source": [
    "# How long to irrigate 2x a day, every day\n",
    "newGrass = irrEvent(50.8, 14)\n",
    "print(\"\\nNew Grass Irrigation Times\")\n",
    "newGrass.showTimes()\n",
    "\n",
    "# How much to irrigate 1x per day\n",
    "medAmt = (50.8+25.4)/2\n",
    "phase1 = irrEvent(medAmt, 7)\n",
    "print(\"\\nPhase 1 Irrigation Times\")\n",
    "phase1.showTimes()\n",
    "\n",
    "# How much to irrigate 4x per week\n",
    "phase2 = irrEvent(25.4, 4)\n",
    "print(\"\\nPhase 2 Irrigation Times\")\n",
    "phase2.showTimes()\n",
    "\n",
    "# How much to irrigate 2x per week\n",
    "established = irrEvent(25.4, 2)\n",
    "print(\"\\nEstablished Grass Irrigation Times\")\n",
    "established.showTimes()\n",
    "\n",
    "goal = {\n",
    "    'newGrass': newGrass,\n",
    "    'phase1': phase1,\n",
    "    'phase2': phase2,\n",
    "    'established': established\n",
    "}"
   ]
  },
  {
   "cell_type": "code",
   "execution_count": 356,
   "metadata": {},
   "outputs": [],
   "source": [
    "# Get rainfall accumulation for last 6 days (7dayHist)\n",
    "last6Days = historicalRainfall(numOfDays=6, location='KCMI')\n",
    "\n",
    "# Get 7 day irrigation total (irrHist)\n",
    "irrHistory = 0\n",
    "\n",
    "# Get 7 day irrigation total (irrHist)\n",
    "precip = last6Days + irrHistory\n",
    "\n",
    "# Get watering gap (7day - target = gap). Options are newGrass, phase1, phase2, and established\n",
    "gap = precip-goal['newGrass'].target\n",
    "\n",
    "# Get forecasts & calculate forward look\n",
    "forecast = forecast()\n",
    "predict = forecast['today'] + 0.5*forecast['tomorrow']"
   ]
  },
  {
   "cell_type": "code",
   "execution_count": 357,
   "metadata": {},
   "outputs": [
    {
     "name": "stdout",
     "output_type": "stream",
     "text": [
      "7 Day Rainfall & Irrigation:  23.0\n",
      "24hr Forecast:  2.89\n",
      "Weekly Accumulation Target:  51\n",
      "Today's Water shortgage: -25.0\n"
     ]
    }
   ],
   "source": [
    "# Today's Conditions\n",
    "print(\"7 Day Rainfall & Irrigation: \", round(precip))\n",
    "print(\"24hr Forecast: \", forecast['today'])\n",
    "print(\"Weekly Accumulation Target: \", round(goal['newGrass'].target))\n",
    "print(\"Today's Water shortgage:\", round(gap + forecast['today']))"
   ]
  },
  {
   "cell_type": "code",
   "execution_count": 358,
   "metadata": {},
   "outputs": [
    {
     "name": "stdout",
     "output_type": "stream",
     "text": [
      "\n",
      "Recommend Run Irrigation\n",
      "Proposed Correction:  4\n",
      "Corrected Accumulation:  29.918571428571433\n",
      "Corrected Gap:  -20.881428571428565\n"
     ]
    }
   ],
   "source": [
    "eventResult = precip+forecast['today']+goal['newGrass'].event\n",
    "if (precip+predict+goal['newGrass'].event < goal['newGrass'].target):\n",
    "    print()\n",
    "    print(\"Recommend Run Irrigation\")\n",
    "    print(\"Proposed Correction: \",round(goal['newGrass'].event))\n",
    "    print(\"Corrected Accumulation: \", precip+forecast['today']+goal['newGrass'].event)\n",
    "    print(\"Corrected Gap: \", gap + forecast['today']+goal['newGrass'].event)\n",
    "else:\n",
    "    print(\"Delay 1 day\")"
   ]
  }
 ],
 "metadata": {
  "kernelspec": {
   "display_name": "Python 3",
   "language": "python",
   "name": "python3"
  },
  "language_info": {
   "codemirror_mode": {
    "name": "ipython",
    "version": 3
   },
   "file_extension": ".py",
   "mimetype": "text/x-python",
   "name": "python",
   "nbconvert_exporter": "python",
   "pygments_lexer": "ipython3",
   "version": "3.7.6"
  }
 },
 "nbformat": 4,
 "nbformat_minor": 4
}
