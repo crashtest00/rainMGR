{
 "cells": [
  {
   "cell_type": "code",
   "execution_count": 1,
   "metadata": {},
   "outputs": [],
   "source": [
    "# This helper class is a good-faith effort to limit the volume of code required to store, process, \n",
    "# and print (to the screen) various ephemera related to and verily defining the irrigation events\n",
    "# with which we are concerned fortwith. Tragically, no analogous simplifying class exists\n",
    "# with which the volume of supporting comment could have been limited. The time you've spend reading this?\n",
    "# You're never going to get it back. Carry on.\n",
    "\n",
    "class irrEvent:\n",
    "    rate1 = 19.05/60\n",
    "    rate2 = 7.143/60\n",
    "    rate3 = 2.381/60\n",
    "\n",
    "    def __init__(self, target, freq):\n",
    "        self.target = float(target)\n",
    "        self.freq = float(freq)\n",
    "        self.event = self.target/self.freq\n",
    "        \n",
    "        self.zone1 = round(self.event/self.rate1)\n",
    "        self.zone2 = round(self.event/self.rate2)\n",
    "        self.zone3 = round(self.event/self.rate3)\n",
    "        \n",
    "    def showTimes(self):\n",
    "        print(\"Zone 1:\", self.zone1, 'minutes')\n",
    "        print(\"Zone 2:\", self.zone2, 'minutes')\n",
    "        print(\"Zone 3:\", self.zone3, 'minutes')"
   ]
  },
  {
   "cell_type": "code",
   "execution_count": 2,
   "metadata": {},
   "outputs": [],
   "source": [
    "# Get historical data from meteostat\n",
    "import config\n",
    "from datetime import datetime, date, timedelta, time\n",
    "from meteostat import Point, Daily, Stations\n",
    "import requests\n",
    "import json\n",
    "\n",
    "def historicalRainfall(numOfDays, location):\n",
    "    # Set time period\n",
    "    today = datetime.combine(date.today(), time()) \n",
    "    hist = today - timedelta(days=numOfDays)\n",
    "    stations = Stations()\n",
    "    station = stations.id('icao', location).fetch()\n",
    "    # print(station)\n",
    "    data = Daily(station, start=hist, end=today)\n",
    "    data = data.normalize()\n",
    "    #data = data.aggregate('1W')\n",
    "    data = data.fetch()\n",
    "    result = data['prcp'].sum()\n",
    "    # print result\n",
    "    return result\n",
    "    # TODO: Move this into a class and store the full result in a debug method\n",
    "\n",
    "\n",
    "# Two functions for getting forecast data\n",
    "# API call to get the data from openweathermap.org\n",
    "def getForecast():\n",
    "    key = config.OPENWX_CONFIG['key']\n",
    "    resource = 'http://api.openweathermap.org/data/2.5/forecast?'\n",
    "    zcode = config.OPENWX_CONFIG['zipcode']\n",
    "    units = 'units=metric&' # Standard, metric and imperial units are available. Standard units are default\n",
    "    # mode = 'mode=xml&' #Response format. JSON format is used by default. To get data in XML format use mode=xml\n",
    "    # cnt = 'cnt=numForecasts #Number of timestamps, which will be returned in the API response\n",
    "    # lang = someLang #Get the output in your language\n",
    "    \n",
    "    url = resource + zcode + units + key\n",
    "\n",
    "    response = requests.request(\n",
    "        \"GET\",\n",
    "        url\n",
    "    )\n",
    "    payload = json.loads(response.text)\n",
    "    return(payload)\n",
    "    # TODO: Move this into a \"forecast\" class and store the full result in a debug method\n",
    "\n",
    "# Process the response\n",
    "def forecast():\n",
    "    payload = getForecast()\n",
    "    today = datetime.combine(date.today(), time()) + timedelta(days=1)\n",
    "    tomorrow = today + timedelta(days=1)\n",
    "\n",
    "    rain2day = 0\n",
    "    rain2mrw = 0\n",
    "\n",
    "    for forecast in payload['list']:\n",
    "        dt = forecast['dt']\n",
    "        timestamp = datetime.fromtimestamp(dt)\n",
    "        timestamp = timestamp - timedelta(hours=6)\n",
    "\n",
    "        if (forecast['weather'][0]['main'] == 'Rain' \n",
    "            and timestamp > today \n",
    "            and timestamp < tomorrow):\n",
    "            print(timestamp.strftime('%Y-%m-%d %H:%M:%S'))\n",
    "            print(\"it's going to rain \", forecast['rain']['3h'], \"mm\")\n",
    "            rain2day += forecast['rain']['3h']\n",
    "        if (forecast['weather'][0]['main'] == 'Rain' \n",
    "            and timestamp >= (tomorrow) \n",
    "            and timestamp < (tomorrow + timedelta(days=1))):\n",
    "#             print(timestamp.strftime('%Y-%m-%d %H:%M:%S'))\n",
    "#             print(\"it's going to rain \", forecast['rain']['3h'], \"mm\")\n",
    "            rain2mrw += forecast['rain']['3h']\n",
    "\n",
    "#         print(\"it's going to rain \", round(rain2day), \"mm today\")\n",
    "#         print(\"it's going to rain \", round(rain2mrw), \"mm tomorrow\")\n",
    "    results = {\n",
    "        'today': rain2day,\n",
    "        'tomorrow': rain2mrw\n",
    "    }\n",
    "    return results\n",
    "    # TODO: Merge this into a single \"forecast\" class and return more data for debug           \n"
   ]
  },
  {
   "cell_type": "code",
   "execution_count": 3,
   "metadata": {},
   "outputs": [
    {
     "data": {
      "text/html": [
       "<style>\n",
       "table {align:left;display:block}\n",
       "</style>\n"
      ],
      "text/plain": [
       "<IPython.core.display.HTML object>"
      ]
     },
     "metadata": {},
     "output_type": "display_data"
    }
   ],
   "source": [
    "%%html\n",
    "<style>\n",
    "table {align:left;display:block}\n",
    "</style>"
   ]
  },
  {
   "cell_type": "markdown",
   "metadata": {},
   "source": [
    "### Irrigation Data\n",
    "#### Irrigation Rates (Per Hour)\n",
    "|        | Inches | mm    |\n",
    "|--------|--------|-------|\n",
    "| Zone 1 | 3/4    | 19.05 |\n",
    "| Zone 2 | 9/32   | 7.143 |\n",
    "| Zone 3 | 3/32   | 2.381 |\n",
    "\n",
    "#### Irrigation Target (Weekly)\n",
    "|           | Inches | mm    |\n",
    "|-----------|--------|-------|\n",
    "| New Grass | 2\"     | 50.8  |\n",
    "|Established| 1\"     | 25.4  |\n",
    "\n",
    "[Rainfall Audit site](https://www.wunderground.com/hourly/us/il/champaign/61821/date/2021-05-17)"
   ]
  },
  {
   "cell_type": "code",
   "execution_count": 4,
   "metadata": {},
   "outputs": [
    {
     "name": "stdout",
     "output_type": "stream",
     "text": [
      "\n",
      "New Grass Irrigation Times\n",
      "Zone 1: 11 minutes\n",
      "Zone 2: 30 minutes\n",
      "Zone 3: 91 minutes\n",
      "\n",
      "Phase 1 Irrigation Times\n",
      "Zone 1: 17 minutes\n",
      "Zone 2: 46 minutes\n",
      "Zone 3: 137 minutes\n",
      "\n",
      "Phase 2 Irrigation Times\n",
      "Zone 1: 20 minutes\n",
      "Zone 2: 53 minutes\n",
      "Zone 3: 160 minutes\n",
      "\n",
      "Established Grass Irrigation Times\n",
      "Zone 1: 40 minutes\n",
      "Zone 2: 107 minutes\n",
      "Zone 3: 320 minutes\n"
     ]
    }
   ],
   "source": [
    "# How long to irrigate 2x a day, every day\n",
    "newGrass = irrEvent(target=50.8, freq=14)\n",
    "print(\"\\nNew Grass Irrigation Times\")\n",
    "newGrass.showTimes()\n",
    "\n",
    "# How much to irrigate 1x per day\n",
    "medAmt = (50.8+25.4)/2\n",
    "phase1 = irrEvent(target=medAmt, freq=7)\n",
    "print(\"\\nPhase 1 Irrigation Times\")\n",
    "phase1.showTimes()\n",
    "\n",
    "# How much to irrigate 4x per week\n",
    "phase2 = irrEvent(target=25.4, freq=4)\n",
    "print(\"\\nPhase 2 Irrigation Times\")\n",
    "phase2.showTimes()\n",
    "\n",
    "# How much to irrigate 2x per week\n",
    "established = irrEvent(target=25.4, freq=2)\n",
    "print(\"\\nEstablished Grass Irrigation Times\")\n",
    "established.showTimes()\n",
    "\n",
    "goal = {\n",
    "    'newGrass': newGrass,\n",
    "    'phase1': phase1,\n",
    "    'phase2': phase2,\n",
    "    'established': established\n",
    "}"
   ]
  },
  {
   "cell_type": "code",
   "execution_count": 5,
   "metadata": {},
   "outputs": [],
   "source": [
    "# Get rainfall accumulation for last 6 days (7dayHist)\n",
    "last6Days = historicalRainfall(numOfDays=6, location='KCMI')\n",
    "\n",
    "# Get 7 day irrigation total (irrHist)\n",
    "irrHistory = goal['newGrass'].event*5\n",
    "\n",
    "# Get 7 day irrigation total (irrHist)\n",
    "precip = last6Days + irrHistory\n",
    "\n",
    "# Get watering gap (7day - target = gap). Options are newGrass, phase1, phase2, and established\n",
    "gap = precip-goal['newGrass'].target\n",
    "\n",
    "# Get forecasts & calculate forward look\n",
    "forecast = forecast()\n",
    "predict = forecast['today'] + 0.5*forecast['tomorrow']"
   ]
  },
  {
   "cell_type": "code",
   "execution_count": 6,
   "metadata": {},
   "outputs": [
    {
     "name": "stdout",
     "output_type": "stream",
     "text": [
      "7 Day Rainfall & Irrigation:  52.0\n",
      "24hr Forecast:  0.66\n",
      "Weekly Accumulation Target:  51\n",
      "Today's Water shortgage: 1.0\n"
     ]
    }
   ],
   "source": [
    "# Today's Conditions\n",
    "print(\"7 Day Rainfall & Irrigation: \", round(precip))\n",
    "print(\"24hr Forecast: \", forecast['today']+forecast['tomorrow'])\n",
    "print(\"Weekly Accumulation Target: \", round(goal['newGrass'].target))\n",
    "print(\"Today's Water shortgage:\", round(gap + forecast['today']))"
   ]
  },
  {
   "cell_type": "code",
   "execution_count": 7,
   "metadata": {},
   "outputs": [
    {
     "name": "stdout",
     "output_type": "stream",
     "text": [
      "Delay 1 day\n"
     ]
    }
   ],
   "source": [
    "eventResult = precip+forecast['today']+goal['newGrass'].event\n",
    "if (precip+predict+goal['newGrass'].event < goal['newGrass'].target):\n",
    "    print()\n",
    "    print(\"Recommend Run Irrigation\")\n",
    "    print(\"Proposed Correction: \",round(goal['newGrass'].event))\n",
    "    print(\"Corrected Accumulation: \", precip+forecast['today']+goal['newGrass'].event)\n",
    "    print(\"Corrected Gap: \", gap + forecast['today']+goal['newGrass'].event)\n",
    "else:\n",
    "    print(\"Delay 1 day\")"
   ]
  },
  {
   "cell_type": "code",
   "execution_count": 71,
   "metadata": {},
   "outputs": [
    {
     "name": "stdout",
     "output_type": "stream",
     "text": [
      "Awesome\n"
     ]
    }
   ],
   "source": [
    "william = 'Awesome'\n",
    "print(william)"
   ]
  },
  {
   "cell_type": "markdown",
   "metadata": {},
   "source": [
    "# The Code that comes after this is important"
   ]
  },
  {
   "cell_type": "code",
   "execution_count": 9,
   "metadata": {},
   "outputs": [],
   "source": [
    "python = \"Some Code\""
   ]
  },
  {
   "cell_type": "markdown",
   "metadata": {},
   "source": [
    "# This is some other import info"
   ]
  },
  {
   "cell_type": "markdown",
   "metadata": {},
   "source": [
    "## This is less important\n",
    "\n",
    "### This is barely important\n",
    "\n",
    "this is not important.\n",
    "\n",
    "* [X] This is a checkbox\n",
    "\n",
    "\n",
    "1. First thing\n",
    "2. Second thing"
   ]
  },
  {
   "cell_type": "code",
   "execution_count": null,
   "metadata": {},
   "outputs": [],
   "source": []
  }
 ],
 "metadata": {
  "kernelspec": {
   "display_name": "Python 3 (ipykernel)",
   "language": "python",
   "name": "python3"
  },
  "language_info": {
   "codemirror_mode": {
    "name": "ipython",
    "version": 3
   },
   "file_extension": ".py",
   "mimetype": "text/x-python",
   "name": "python",
   "nbconvert_exporter": "python",
   "pygments_lexer": "ipython3",
   "version": "3.7.6"
  }
 },
 "nbformat": 4,
 "nbformat_minor": 4
}
